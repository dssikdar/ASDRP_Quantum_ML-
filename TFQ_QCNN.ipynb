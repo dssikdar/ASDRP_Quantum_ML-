{
  "nbformat": 4,
  "nbformat_minor": 0,
  "metadata": {
    "colab": {
      "name": "TFQ QCNN.ipynb",
      "provenance": [],
      "collapsed_sections": [],
      "include_colab_link": true
    },
    "kernelspec": {
      "name": "python3",
      "display_name": "Python 3"
    },
    "language_info": {
      "name": "python"
    }
  },
  "cells": [
    {
      "cell_type": "markdown",
      "metadata": {
        "id": "view-in-github",
        "colab_type": "text"
      },
      "source": [
        "<a href=\"https://colab.research.google.com/github/dssikdar/ASDRP_Quantum_ML-/blob/Quantum_Conv/TFQ_QCNN.ipynb\" target=\"_parent\"><img src=\"https://colab.research.google.com/assets/colab-badge.svg\" alt=\"Open In Colab\"/></a>"
      ]
    },
    {
      "cell_type": "markdown",
      "metadata": {
        "id": "btLyDC1bi3PR"
      },
      "source": [
        "**Todo**\n",
        "---\n",
        "> 1. Make all the Conv Layers functions <-- did this\n",
        "> 2. 2x2 inputs and 4x4 inputs <-- is finished ^\n",
        "> 3. Adam Optimizer <-- not important right now\n",
        "> 4. 1.6 in tutorial <-- is finished\n",
        "> 5. 1.7 in tutorial <-- Saturday"
      ]
    },
    {
      "cell_type": "markdown",
      "metadata": {
        "id": "IkHDxsQerhMi"
      },
      "source": [
        "**Installation of Necessary Modules**\n",
        "1.   Tensorflow==2.4.1\n",
        "2.   Tensorflow-Quantum\n",
        "3.   Sympy\n",
        "4.   Numpy\n",
        "5.   Google Cirq\n",
        "6.   Pennylane (Just in Case)\n",
        "\n"
      ]
    },
    {
      "cell_type": "code",
      "metadata": {
        "id": "Q173DVj2gE8P"
      },
      "source": [
        "!pip install -q tensorflow==2.4.1 tensorflow-quantum\n",
        "!pip install cirq sympy numpy pennylane"
      ],
      "execution_count": null,
      "outputs": []
    },
    {
      "cell_type": "markdown",
      "metadata": {
        "id": "6MWcZInurnNa"
      },
      "source": [
        "**Importing Modules**\n",
        "\n",
        "\n",
        "1.   Matplotlib.pyplot as plt\n",
        "2.   SVGCircuit from Cirq.contrib.svg\n",
        "3.   Tensorflow as tf and Tensorflow_Quantum as tfq\n",
        "4.   Google Cirq for writing the circuit\n",
        "5.   Sympy as sp\n",
        "6.   Numpy as np from Pennylane\n",
        "7.   Pennylane as qml\n",
        "8.   Itertools for efficient iteration\n",
        "9.   Math for doing math\n",
        "\n"
      ]
    },
    {
      "cell_type": "code",
      "metadata": {
        "id": "aAILVscIjXMI"
      },
      "source": [
        "#%tb #full traceback for errors\n",
        "%matplotlib inline\n",
        "import tensorflow as tf\n",
        "import tensorflow_quantum as tfq\n",
        "import matplotlib.pyplot as plt\n",
        "import cirq\n",
        "from cirq.contrib.svg import SVGCircuit\n",
        "import sympy as sp\n",
        "import pennylane\n",
        "from pennylane import numpy as np\n",
        "from math import *\n",
        "from itertools import *"
      ],
      "execution_count": 5,
      "outputs": []
    },
    {
      "cell_type": "markdown",
      "metadata": {
        "id": "YfmSZgyxeKA1"
      },
      "source": [
        "**Abhik's Section**"
      ]
    },
    {
      "cell_type": "code",
      "metadata": {
        "id": "DLLQ3LQ5eNAl"
      },
      "source": [
        "#Can put code here"
      ],
      "execution_count": 3,
      "outputs": []
    },
    {
      "cell_type": "markdown",
      "metadata": {
        "id": "5_D2Pw0KrqSV"
      },
      "source": [
        "**Function which Creates the Circuit and Qubits**"
      ]
    },
    {
      "cell_type": "code",
      "metadata": {
        "id": "dP5jTCZMqyIe"
      },
      "source": [
        "numOfQubits = 4"
      ],
      "execution_count": 6,
      "outputs": []
    },
    {
      "cell_type": "code",
      "metadata": {
        "id": "_PAA7sWNlabQ"
      },
      "source": [
        "def createCircuit(num_qubits):\n",
        "    qubits = cirq.GridQubit.rect(1, num_qubits)\n",
        "    circuit = cirq.Circuit()\n",
        "    return qubits, circuit"
      ],
      "execution_count": 7,
      "outputs": []
    },
    {
      "cell_type": "code",
      "metadata": {
        "id": "VqWG240BjLT_"
      },
      "source": [
        "qubits, vqc = createCircuit(numOfQubits)"
      ],
      "execution_count": 8,
      "outputs": []
    },
    {
      "cell_type": "markdown",
      "metadata": {
        "id": "wDbmU_rU4gSr"
      },
      "source": [
        "*If you mess up run the \"I messed up function\"*\n"
      ]
    },
    {
      "cell_type": "code",
      "metadata": {
        "id": "IvY-oLHRLzZr"
      },
      "source": [
        "#I messed up function\n",
        "#qubits, vqc = createCircuit(4)"
      ],
      "execution_count": null,
      "outputs": []
    },
    {
      "cell_type": "markdown",
      "metadata": {
        "id": "zivQII-QruPW"
      },
      "source": [
        "**Cluster State PQC**\n",
        "1. Hadamard all Qubit\n",
        "2. CNOT each pair of qubits (0,1), (1,2) (2,3), (3,0)"
      ]
    },
    {
      "cell_type": "code",
      "metadata": {
        "id": "Rp23oskVJgBQ"
      },
      "source": [
        "def Cluster_State_PQC(bits):\n",
        "    circuit = cirq.Circuit()\n",
        "    circuit.append(cirq.H.on_each(bits))\n",
        "    for this_bit, next_bit in zip(bits, bits[1:] + [bits[0]]):\n",
        "        circuit.append(cirq.CZ(this_bit, next_bit))\n",
        "    return circuit"
      ],
      "execution_count": 9,
      "outputs": []
    },
    {
      "cell_type": "markdown",
      "metadata": {
        "id": "KiDcXLDJrytN"
      },
      "source": [
        "**Rotation Angle Initialization before perfoming Convolution and Pooling and Gate Functions**"
      ]
    },
    {
      "cell_type": "code",
      "metadata": {
        "id": "cGbWGxM4p82U"
      },
      "source": [
        "def InitRot(numOfAngles=74, angle = np.pi/2):\n",
        "    return np.array([angle for i in range(numOfAngles)])"
      ],
      "execution_count": 10,
      "outputs": []
    },
    {
      "cell_type": "code",
      "metadata": {
        "id": "Gxc9maWMMQZR",
        "colab": {
          "base_uri": "https://localhost:8080/"
        },
        "outputId": "aaa1d5a0-6b05-4c4f-cbe0-b727d1e4fd08"
      },
      "source": [
        "default = InitRot()\n",
        "print(default)"
      ],
      "execution_count": 11,
      "outputs": [
        {
          "output_type": "stream",
          "text": [
            "[1.57079633 1.57079633 1.57079633 1.57079633 1.57079633 1.57079633\n",
            " 1.57079633 1.57079633 1.57079633 1.57079633 1.57079633 1.57079633\n",
            " 1.57079633 1.57079633 1.57079633 1.57079633 1.57079633 1.57079633\n",
            " 1.57079633 1.57079633 1.57079633 1.57079633 1.57079633 1.57079633\n",
            " 1.57079633 1.57079633 1.57079633 1.57079633 1.57079633 1.57079633\n",
            " 1.57079633 1.57079633 1.57079633 1.57079633 1.57079633 1.57079633\n",
            " 1.57079633 1.57079633 1.57079633 1.57079633 1.57079633 1.57079633\n",
            " 1.57079633 1.57079633 1.57079633 1.57079633 1.57079633 1.57079633\n",
            " 1.57079633 1.57079633 1.57079633 1.57079633 1.57079633 1.57079633\n",
            " 1.57079633 1.57079633 1.57079633 1.57079633 1.57079633 1.57079633\n",
            " 1.57079633 1.57079633 1.57079633 1.57079633 1.57079633 1.57079633\n",
            " 1.57079633 1.57079633 1.57079633 1.57079633 1.57079633 1.57079633\n",
            " 1.57079633 1.57079633]\n"
          ],
          "name": "stdout"
        }
      ]
    },
    {
      "cell_type": "markdown",
      "metadata": {
        "id": "lgbVIvgP5dsG"
      },
      "source": [
        "*Rotation angles subject to changes at any time*"
      ]
    },
    {
      "cell_type": "code",
      "metadata": {
        "id": "SIPC8qkBv8Gy"
      },
      "source": [
        "def U3_Gate(bit, params):\n",
        "    return cirq.Circuit(\n",
        "        cirq.X(bit)**params[0],\n",
        "        cirq.Y(bit)**params[1],\n",
        "        cirq.Z(bit)**params[2])"
      ],
      "execution_count": 12,
      "outputs": []
    },
    {
      "cell_type": "code",
      "metadata": {
        "id": "65UR9Y__zQEY"
      },
      "source": [
        "def CU_Gate(other_bit, bit, params):\n",
        "    return cirq.Circuit(\n",
        "        cirq.X(bit).controlled_by(other_bit)**params[0],\n",
        "        cirq.Y(bit).controlled_by(other_bit)**params[1],\n",
        "        cirq.Z(bit).controlled_by(other_bit)**params[2])"
      ],
      "execution_count": 13,
      "outputs": []
    },
    {
      "cell_type": "markdown",
      "metadata": {
        "id": "RXVa-7y6rNk1"
      },
      "source": [
        "**Quantum Convolution Layer 1**.  \n",
        "*Consists of RY gates with fixed angle of rotation (non-trainable) and CNOT pattern as in the PQC* "
      ]
    },
    {
      "cell_type": "code",
      "metadata": {
        "id": "tIsMtJO3iEjY"
      },
      "source": [
        "def QConvLayer1(qubits): \n",
        "    circuit = cirq.Circuit()\n",
        "    for first in qubits:\n",
        "        circuit.append(cirq.Ry(rads=np.pi)(first))\n",
        "    for first, second in zip(qubits[0::1], qubits[1::1] + [qubits[0]]):\n",
        "        circuit.append(cirq.CNOT(first, second))\n",
        "    return circuit"
      ],
      "execution_count": 16,
      "outputs": []
    },
    {
      "cell_type": "markdown",
      "metadata": {
        "id": "kjnFi23iv4sr"
      },
      "source": [
        "**Quantum Convolution Layer 2**  \n",
        "*Consists of U3 gates applied to each qubit and CU gates applied in the CNOT pattern*"
      ]
    },
    {
      "cell_type": "code",
      "metadata": {
        "id": "w7FUvK2ONa7I"
      },
      "source": [
        "def QConvLayer2(qubits, params):\n",
        "    circuit = cirq.Circuit()\n",
        "    index = 0\n",
        "    for qubit in qubits:\n",
        "        circuit += U3_Gate(qubit, params[index : index+3])\n",
        "        index += 3\n",
        "    for first, second in zip(qubits[0::1], qubits[1::1] + [qubits[0]]):\n",
        "        circuit += CU_Gate(first, second, params[index : index+3])\n",
        "        index += 3\n",
        "    return circuit"
      ],
      "execution_count": 17,
      "outputs": []
    },
    {
      "cell_type": "markdown",
      "metadata": {
        "id": "z0CWJt7gAlNC"
      },
      "source": [
        "**Quantum Convolution Layer 3**"
      ]
    },
    {
      "cell_type": "code",
      "metadata": {
        "id": "qij5QbJqSNGu"
      },
      "source": [
        "def QConvLayer3(qubits, params):\n",
        "    circuit = cirq.Circuit()\n",
        "    index=0\n",
        "    for qubit in qubits:\n",
        "        circuit += U3_Gate(qubit, params[index : index+3])\n",
        "        index += 3\n",
        "    circuit += cirq.CNOT(control=qubits[0], target=qubits[1])\n",
        "    circuit += (cirq.CNOT(control=qubits[3], target=qubits[2]))\n",
        "    circuit += U3_Gate(qubits[0], [np.pi, np.pi, np.pi])\n",
        "    circuit += U3_Gate(qubits[3], [np.pi/2, np.pi/2, np.pi/2])\n",
        "    circuit += cirq.CNOT(control=qubits[0], target=qubits[1])\n",
        "    circuit += cirq.CNOT(control=qubits[3], target=qubits[2])\n",
        "    return circuit"
      ],
      "execution_count": 19,
      "outputs": []
    },
    {
      "cell_type": "markdown",
      "metadata": {
        "id": "HohdsIVyBeRj"
      },
      "source": [
        "**Quantum Convolution Layer 4**"
      ]
    },
    {
      "cell_type": "code",
      "metadata": {
        "id": "FL5qQlbQTl_X"
      },
      "source": [
        "def QConvLayer4(qubits, params):\n",
        "    circuit = cirq.Circuit()\n",
        "    index = 0\n",
        "    circuit += U3_Gate(qubits[0], params[0:3])\n",
        "    for first, second in zip(qubits[0::1], qubits[1::1] + [qubits[0]]):\n",
        "        circuit += cirq.CNOT(control=first, target=second)\n",
        "        circuit += CU_Gate(first, second, params[index:index+3])\n",
        "        index += 3\n",
        "    return circuit"
      ],
      "execution_count": 20,
      "outputs": []
    },
    {
      "cell_type": "markdown",
      "metadata": {
        "id": "zegH5nDnCre3"
      },
      "source": [
        "**Quantum Convolution Layer 5**"
      ]
    },
    {
      "cell_type": "code",
      "metadata": {
        "id": "dwJ1JAhsYSMc"
      },
      "source": [
        "def QConvLayer5(qubits, params):\n",
        "    circuit = cirq.Circuit()\n",
        "    circuit += U3_Gate(qubits[0], params[0:3])\n",
        "    circuit += cirq.CNOT(control=qubits[0], target=qubits[1])\n",
        "    circuit += cirq.CNOT(control=qubits[2], target=qubits[3])\n",
        "    circuit += U3_Gate(qubits[2], params[3:6])\n",
        "    circuit += cirq.CNOT(control = qubits[2], target=qubits[1])\n",
        "    circuit += U3_Gate(qubits[1], params[6:9])\n",
        "    return circuit"
      ],
      "execution_count": 21,
      "outputs": []
    },
    {
      "cell_type": "markdown",
      "metadata": {
        "id": "zhBxQCzxBV_Y"
      },
      "source": [
        "**Quantum Convolution Layer 6**  \n",
        "*Same as Layer 4 but CU is CNOT*"
      ]
    },
    {
      "cell_type": "code",
      "metadata": {
        "id": "rvRfsdB8ZPeJ"
      },
      "source": [
        "def QConvLayer6(qubits):\n",
        "    circuit = cirq.Circuit()\n",
        "    for i in range(1, len(qubits)):\n",
        "        circuit += cirq.CNOT(qubits[0], qubits[i])\n",
        "    circuit += U3_Gate(qubits[3], [np.pi, np.pi/2, np.pi/4])\n",
        "    return circuit"
      ],
      "execution_count": 22,
      "outputs": []
    },
    {
      "cell_type": "markdown",
      "metadata": {
        "id": "QIULoikICw_W"
      },
      "source": [
        "**Quantum Pooling Layer**  "
      ]
    },
    {
      "cell_type": "code",
      "metadata": {
        "id": "1mXME10zE79h"
      },
      "source": [
        "def QPoolLayer(source, sink, params):\n",
        "    poolCircuit = cirq.Circuit()\n",
        "    sinkBasisSelector = U3_Gate(sink, params[0:3])\n",
        "    sourceBasisSelector = U3_Gate(source, params[3:6])\n",
        "    poolCircuit.append(sinkBasisSelector)\n",
        "    poolCircuit.append(sourceBasisSelector)\n",
        "    poolCircuit.append(cirq.CNOT(control=source, target=sink))\n",
        "    poolCircuit.append(sinkBasisSelector**-1)\n",
        "    return poolCircuit"
      ],
      "execution_count": 14,
      "outputs": []
    },
    {
      "cell_type": "markdown",
      "metadata": {
        "id": "q8ESjG5uZGrl"
      },
      "source": [
        "**1.6 Create Model**"
      ]
    },
    {
      "cell_type": "code",
      "metadata": {
        "id": "P-_u_k37u35y"
      },
      "source": [
        "def createModelCircuit(qubits, symbols=sp.symbols('param0:74')):\n",
        "    modelCircuit = cirq.Circuit()\n",
        "    modelCircuit += QConvLayer1(qubits)\n",
        "    modelCircuit += QConvLayer2(qubits, symbols[0:24])\n",
        "    modelCircuit += QConvLayer3(qubits, symbols[24:36])\n",
        "    modelCircuit += QPoolLayer(qubits[0], qubits[2], symbols[36:42])\n",
        "    modelCircuit += QConvLayer4(qubits, symbols[42:57])\n",
        "    modelCircuit += QConvLayer5(qubits, symbols[57:67])\n",
        "    modelCircuit += QPoolLayer(qubits[1], qubits[3], symbols[67:74])\n",
        "    modelCircuit += QConvLayer6(qubits)\n",
        "    return modelCircuit"
      ],
      "execution_count": 25,
      "outputs": []
    },
    {
      "cell_type": "code",
      "metadata": {
        "colab": {
          "base_uri": "https://localhost:8080/",
          "height": 232
        },
        "id": "Qrocm_KXhGqJ",
        "outputId": "05d29402-379c-4aff-fb5b-739ab7d78e5f"
      },
      "source": [
        "clusterStateBits = cirq.GridQubit.rect(1, 4)\n",
        "readoutOps = cirq.Z(clusterStateBits[-1])\n",
        "excitationInput = tf.keras.Input(shape=(), dtype=tf.dtypes.string)\n",
        "clusterState = tfq.layers.AddCircuit()(excitationInput, prepend=Cluster_State_PQC(clusterStateBits))\n",
        "QModel = tfq.layers.PQC(createModelCircuit(clusterStateBits), readoutOps)(clusterState)\n",
        "QCNNModel = tf.keras.Model(inputs=[excitationInput], outputs=[QModel])\n",
        "tf.keras.utils.plot_model(QCNNModel, show_shapes=True, show_layer_names=True, dpi=70)"
      ],
      "execution_count": 26,
      "outputs": [
        {
          "output_type": "execute_result",
          "data": {
            "image/png": "[encoded data removed]",
            "text/plain": [
              "<IPython.core.display.Image object>"
            ]
          },
          "metadata": {
            "tags": []
          },
          "execution_count": 26
        }
      ]
    }
  ]
}