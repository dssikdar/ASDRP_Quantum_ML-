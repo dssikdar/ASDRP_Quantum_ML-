{
  "nbformat": 4,
  "nbformat_minor": 0,
  "metadata": {
    "colab": {
      "name": "TFQ QCNN.ipynb",
      "provenance": [],
      "collapsed_sections": [],
      "include_colab_link": true
    },
    "kernelspec": {
      "name": "python3",
      "display_name": "Python 3"
    },
    "language_info": {
      "name": "python"
    },
    "widgets": {
      "application/vnd.jupyter.widget-state+json": {
        "5052e7adca654bd7b0d7551b033f132b": {
          "model_module": "@jupyter-widgets/controls",
          "model_name": "HBoxModel",
          "state": {
            "_view_name": "HBoxView",
            "_dom_classes": [],
            "_model_name": "HBoxModel",
            "_view_module": "@jupyter-widgets/controls",
            "_model_module_version": "1.5.0",
            "_view_count": null,
            "_view_module_version": "1.5.0",
            "box_style": "",
            "layout": "IPY_MODEL_daa82c3c6c244084a64e2ad909a9bbca",
            "_model_module": "@jupyter-widgets/controls",
            "children": [
              "IPY_MODEL_d1253110d4a74dc39837a295105e6e28",
              "IPY_MODEL_299f135a59054903932cf2845115592f"
            ]
          }
        },
        "daa82c3c6c244084a64e2ad909a9bbca": {
          "model_module": "@jupyter-widgets/base",
          "model_name": "LayoutModel",
          "state": {
            "_view_name": "LayoutView",
            "grid_template_rows": null,
            "right": null,
            "justify_content": null,
            "_view_module": "@jupyter-widgets/base",
            "overflow": null,
            "_model_module_version": "1.2.0",
            "_view_count": null,
            "flex_flow": null,
            "width": null,
            "min_width": null,
            "border": null,
            "align_items": null,
            "bottom": null,
            "_model_module": "@jupyter-widgets/base",
            "top": null,
            "grid_column": null,
            "overflow_y": null,
            "overflow_x": null,
            "grid_auto_flow": null,
            "grid_area": null,
            "grid_template_columns": null,
            "flex": null,
            "_model_name": "LayoutModel",
            "justify_items": null,
            "grid_row": null,
            "max_height": null,
            "align_content": null,
            "visibility": null,
            "align_self": null,
            "height": null,
            "min_height": null,
            "padding": null,
            "grid_auto_rows": null,
            "grid_gap": null,
            "max_width": null,
            "order": null,
            "_view_module_version": "1.2.0",
            "grid_template_areas": null,
            "object_position": null,
            "object_fit": null,
            "grid_auto_columns": null,
            "margin": null,
            "display": null,
            "left": null
          }
        },
        "d1253110d4a74dc39837a295105e6e28": {
          "model_module": "@jupyter-widgets/controls",
          "model_name": "FloatProgressModel",
          "state": {
            "_view_name": "ProgressView",
            "style": "IPY_MODEL_dc5383bd2e434c0186d0e53b4bf0734b",
            "_dom_classes": [],
            "description": "Dl Completed...: 100%",
            "_model_name": "FloatProgressModel",
            "bar_style": "success",
            "max": 4,
            "_view_module": "@jupyter-widgets/controls",
            "_model_module_version": "1.5.0",
            "value": 4,
            "_view_count": null,
            "_view_module_version": "1.5.0",
            "orientation": "horizontal",
            "min": 0,
            "description_tooltip": null,
            "_model_module": "@jupyter-widgets/controls",
            "layout": "IPY_MODEL_588fc045f6464804ab1f49af5fcda13b"
          }
        },
        "299f135a59054903932cf2845115592f": {
          "model_module": "@jupyter-widgets/controls",
          "model_name": "HTMLModel",
          "state": {
            "_view_name": "HTMLView",
            "style": "IPY_MODEL_0361ddb83ea84536af3c4187af5e757c",
            "_dom_classes": [],
            "description": "",
            "_model_name": "HTMLModel",
            "placeholder": "​",
            "_view_module": "@jupyter-widgets/controls",
            "_model_module_version": "1.5.0",
            "value": " 4/4 [00:00&lt;00:00,  5.59 file/s]",
            "_view_count": null,
            "_view_module_version": "1.5.0",
            "description_tooltip": null,
            "_model_module": "@jupyter-widgets/controls",
            "layout": "IPY_MODEL_98470ebdd2614fd2a04a0f75213f8184"
          }
        },
        "dc5383bd2e434c0186d0e53b4bf0734b": {
          "model_module": "@jupyter-widgets/controls",
          "model_name": "ProgressStyleModel",
          "state": {
            "_view_name": "StyleView",
            "_model_name": "ProgressStyleModel",
            "description_width": "initial",
            "_view_module": "@jupyter-widgets/base",
            "_model_module_version": "1.5.0",
            "_view_count": null,
            "_view_module_version": "1.2.0",
            "bar_color": null,
            "_model_module": "@jupyter-widgets/controls"
          }
        },
        "588fc045f6464804ab1f49af5fcda13b": {
          "model_module": "@jupyter-widgets/base",
          "model_name": "LayoutModel",
          "state": {
            "_view_name": "LayoutView",
            "grid_template_rows": null,
            "right": null,
            "justify_content": null,
            "_view_module": "@jupyter-widgets/base",
            "overflow": null,
            "_model_module_version": "1.2.0",
            "_view_count": null,
            "flex_flow": null,
            "width": null,
            "min_width": null,
            "border": null,
            "align_items": null,
            "bottom": null,
            "_model_module": "@jupyter-widgets/base",
            "top": null,
            "grid_column": null,
            "overflow_y": null,
            "overflow_x": null,
            "grid_auto_flow": null,
            "grid_area": null,
            "grid_template_columns": null,
            "flex": null,
            "_model_name": "LayoutModel",
            "justify_items": null,
            "grid_row": null,
            "max_height": null,
            "align_content": null,
            "visibility": null,
            "align_self": null,
            "height": null,
            "min_height": null,
            "padding": null,
            "grid_auto_rows": null,
            "grid_gap": null,
            "max_width": null,
            "order": null,
            "_view_module_version": "1.2.0",
            "grid_template_areas": null,
            "object_position": null,
            "object_fit": null,
            "grid_auto_columns": null,
            "margin": null,
            "display": null,
            "left": null
          }
        },
        "0361ddb83ea84536af3c4187af5e757c": {
          "model_module": "@jupyter-widgets/controls",
          "model_name": "DescriptionStyleModel",
          "state": {
            "_view_name": "StyleView",
            "_model_name": "DescriptionStyleModel",
            "description_width": "",
            "_view_module": "@jupyter-widgets/base",
            "_model_module_version": "1.5.0",
            "_view_count": null,
            "_view_module_version": "1.2.0",
            "_model_module": "@jupyter-widgets/controls"
          }
        },
        "98470ebdd2614fd2a04a0f75213f8184": {
          "model_module": "@jupyter-widgets/base",
          "model_name": "LayoutModel",
          "state": {
            "_view_name": "LayoutView",
            "grid_template_rows": null,
            "right": null,
            "justify_content": null,
            "_view_module": "@jupyter-widgets/base",
            "overflow": null,
            "_model_module_version": "1.2.0",
            "_view_count": null,
            "flex_flow": null,
            "width": null,
            "min_width": null,
            "border": null,
            "align_items": null,
            "bottom": null,
            "_model_module": "@jupyter-widgets/base",
            "top": null,
            "grid_column": null,
            "overflow_y": null,
            "overflow_x": null,
            "grid_auto_flow": null,
            "grid_area": null,
            "grid_template_columns": null,
            "flex": null,
            "_model_name": "LayoutModel",
            "justify_items": null,
            "grid_row": null,
            "max_height": null,
            "align_content": null,
            "visibility": null,
            "align_self": null,
            "height": null,
            "min_height": null,
            "padding": null,
            "grid_auto_rows": null,
            "grid_gap": null,
            "max_width": null,
            "order": null,
            "_view_module_version": "1.2.0",
            "grid_template_areas": null,
            "object_position": null,
            "object_fit": null,
            "grid_auto_columns": null,
            "margin": null,
            "display": null,
            "left": null
          }
        }
      }
    }
  },
  "cells": [
    {
      "cell_type": "markdown",
      "metadata": {
        "id": "view-in-github",
        "colab_type": "text"
      },
      "source": [
        "<a href=\"https://colab.research.google.com/github/dssikdar/ASDRP_Quantum_ML-/blob/Quantum_Conv/TFQ_QCNN.ipynb\" target=\"_parent\"><img src=\"https://colab.research.google.com/assets/colab-badge.svg\" alt=\"Open In Colab\"/></a>"
      ]
    },
    {
      "cell_type": "markdown",
      "metadata": {
        "id": "btLyDC1bi3PR"
      },
      "source": [
        "**Todo**\n",
        "---\n",
        "> 1. Make all the Conv Layers functions <-- did this\n",
        "> 2. 2x2 inputs and 4x4 inputs <-- is finished ^\n",
        "> 3. Adam Optimizer <-- not important right now\n",
        "> 4. 1.6 in tutorial <-- is finished\n",
        "> 5. 1.7 in tutorial <-- Saturday"
      ]
    },
    {
      "cell_type": "markdown",
      "metadata": {
        "id": "IkHDxsQerhMi"
      },
      "source": [
        "**Installation of Necessary Modules**\n",
        "1.   Tensorflow==2.4.1\n",
        "2.   Tensorflow-Quantum\n",
        "3.   Sympy\n",
        "4.   Numpy\n",
        "5.   Google Cirq\n",
        "6.   Pennylane (Just in Case)\n",
        "\n"
      ]
    },
    {
      "cell_type": "code",
      "metadata": {
        "id": "Q173DVj2gE8P",
        "colab": {
          "base_uri": "https://localhost:8080/"
        },
        "outputId": "affa9f3f-e3ce-4e39-8a8d-7549bcb12d62"
      },
      "source": [
        "!pip install -q tensorflow==2.4.1 tensorflow-quantum\n",
        "!pip install cirq sympy numpy pennylane"
      ],
      "execution_count": 1,
      "outputs": [
        {
          "output_type": "stream",
          "text": [
            "\u001b[K     |████████████████████████████████| 394.3 MB 13 kB/s \n",
            "\u001b[K     |████████████████████████████████| 7.8 MB 12.4 MB/s \n",
            "\u001b[K     |████████████████████████████████| 2.9 MB 51.6 MB/s \n",
            "\u001b[K     |████████████████████████████████| 3.8 MB 46.7 MB/s \n",
            "\u001b[K     |████████████████████████████████| 462 kB 54.1 MB/s \n",
            "\u001b[K     |████████████████████████████████| 90 kB 11.3 MB/s \n",
            "\u001b[K     |████████████████████████████████| 100 kB 11.6 MB/s \n",
            "\u001b[K     |████████████████████████████████| 5.6 MB 15.8 MB/s \n",
            "\u001b[K     |████████████████████████████████| 1.3 MB 49.3 MB/s \n",
            "\u001b[K     |████████████████████████████████| 90 kB 11.7 MB/s \n",
            "\u001b[K     |████████████████████████████████| 380 kB 64.8 MB/s \n",
            "\u001b[K     |████████████████████████████████| 1.5 MB 39.9 MB/s \n",
            "\u001b[K     |████████████████████████████████| 93 kB 1.6 MB/s \n",
            "\u001b[K     |████████████████████████████████| 93 kB 1.7 MB/s \n",
            "\u001b[K     |████████████████████████████████| 93 kB 1.7 MB/s \n",
            "\u001b[K     |████████████████████████████████| 93 kB 1.4 MB/s \n",
            "\u001b[K     |████████████████████████████████| 92 kB 1.4 MB/s \n",
            "\u001b[K     |████████████████████████████████| 93 kB 1.5 MB/s \n",
            "\u001b[K     |████████████████████████████████| 93 kB 1.4 MB/s \n",
            "\u001b[K     |████████████████████████████████| 92 kB 1.3 MB/s \n",
            "\u001b[K     |████████████████████████████████| 92 kB 1.2 MB/s \n",
            "\u001b[K     |████████████████████████████████| 92 kB 286 kB/s \n",
            "\u001b[K     |████████████████████████████████| 92 kB 205 kB/s \n",
            "\u001b[K     |████████████████████████████████| 92 kB 14.3 MB/s \n",
            "\u001b[K     |████████████████████████████████| 91 kB 12.9 MB/s \n",
            "\u001b[K     |████████████████████████████████| 91 kB 12.8 MB/s \n",
            "\u001b[K     |████████████████████████████████| 91 kB 12.9 MB/s \n",
            "\u001b[K     |████████████████████████████████| 91 kB 12.2 MB/s \n",
            "\u001b[K     |████████████████████████████████| 91 kB 13.1 MB/s \n",
            "\u001b[K     |████████████████████████████████| 91 kB 13.2 MB/s \n",
            "\u001b[K     |████████████████████████████████| 91 kB 11.8 MB/s \n",
            "\u001b[?25hRequirement already satisfied: cirq in /usr/local/lib/python3.7/dist-packages (0.11.0)\n",
            "Requirement already satisfied: sympy in /usr/local/lib/python3.7/dist-packages (1.5)\n",
            "Requirement already satisfied: numpy in /usr/local/lib/python3.7/dist-packages (1.19.5)\n",
            "Collecting pennylane\n",
            "  Downloading PennyLane-0.16.0-py3-none-any.whl (514 kB)\n",
            "\u001b[K     |████████████████████████████████| 514 kB 32.6 MB/s \n",
            "\u001b[?25hRequirement already satisfied: cirq-core==0.11.0 in /usr/local/lib/python3.7/dist-packages (from cirq) (0.11.0)\n",
            "Requirement already satisfied: cirq-google==0.11.0 in /usr/local/lib/python3.7/dist-packages (from cirq) (0.11.0)\n",
            "Requirement already satisfied: typing-extensions in /usr/local/lib/python3.7/dist-packages (from cirq-core==0.11.0->cirq) (3.7.4.3)\n",
            "Requirement already satisfied: networkx~=2.4 in /usr/local/lib/python3.7/dist-packages (from cirq-core==0.11.0->cirq) (2.5.1)\n",
            "Requirement already satisfied: tqdm in /usr/local/lib/python3.7/dist-packages (from cirq-core==0.11.0->cirq) (4.41.1)\n",
            "Requirement already satisfied: scipy in /usr/local/lib/python3.7/dist-packages (from cirq-core==0.11.0->cirq) (1.4.1)\n",
            "Requirement already satisfied: sortedcontainers~=2.0 in /usr/local/lib/python3.7/dist-packages (from cirq-core==0.11.0->cirq) (2.4.0)\n",
            "Requirement already satisfied: pandas in /usr/local/lib/python3.7/dist-packages (from cirq-core==0.11.0->cirq) (1.1.5)\n",
            "Requirement already satisfied: requests~=2.18 in /usr/local/lib/python3.7/dist-packages (from cirq-core==0.11.0->cirq) (2.23.0)\n",
            "Requirement already satisfied: matplotlib~=3.0 in /usr/local/lib/python3.7/dist-packages (from cirq-core==0.11.0->cirq) (3.2.2)\n",
            "Requirement already satisfied: google-api-core[grpc]<2.0.0dev,>=1.14.0 in /usr/local/lib/python3.7/dist-packages (from cirq-google==0.11.0->cirq) (1.21.0)\n",
            "Requirement already satisfied: protobuf~=3.13.0 in /usr/local/lib/python3.7/dist-packages (from cirq-google==0.11.0->cirq) (3.13.0)\n",
            "Requirement already satisfied: google-auth<2.0dev,>=1.18.0 in /usr/local/lib/python3.7/dist-packages (from google-api-core[grpc]<2.0.0dev,>=1.14.0->cirq-google==0.11.0->cirq) (1.18.0)\n",
            "Requirement already satisfied: googleapis-common-protos<2.0dev,>=1.6.0 in /usr/local/lib/python3.7/dist-packages (from google-api-core[grpc]<2.0.0dev,>=1.14.0->cirq-google==0.11.0->cirq) (1.52.0)\n",
            "Requirement already satisfied: six>=1.10.0 in /usr/local/lib/python3.7/dist-packages (from google-api-core[grpc]<2.0.0dev,>=1.14.0->cirq-google==0.11.0->cirq) (1.15.0)\n",
            "Requirement already satisfied: setuptools>=34.0.0 in /usr/local/lib/python3.7/dist-packages (from google-api-core[grpc]<2.0.0dev,>=1.14.0->cirq-google==0.11.0->cirq) (57.2.0)\n",
            "Requirement already satisfied: pytz in /usr/local/lib/python3.7/dist-packages (from google-api-core[grpc]<2.0.0dev,>=1.14.0->cirq-google==0.11.0->cirq) (2018.9)\n",
            "Requirement already satisfied: grpcio<2.0dev,>=1.29.0 in /usr/local/lib/python3.7/dist-packages (from google-api-core[grpc]<2.0.0dev,>=1.14.0->cirq-google==0.11.0->cirq) (1.32.0)\n",
            "Requirement already satisfied: cachetools<5.0,>=2.0.0 in /usr/local/lib/python3.7/dist-packages (from google-auth<2.0dev,>=1.18.0->google-api-core[grpc]<2.0.0dev,>=1.14.0->cirq-google==0.11.0->cirq) (4.2.2)\n",
            "Requirement already satisfied: pyasn1-modules>=0.2.1 in /usr/local/lib/python3.7/dist-packages (from google-auth<2.0dev,>=1.18.0->google-api-core[grpc]<2.0.0dev,>=1.14.0->cirq-google==0.11.0->cirq) (0.2.8)\n",
            "Requirement already satisfied: rsa<5,>=3.1.4 in /usr/local/lib/python3.7/dist-packages (from google-auth<2.0dev,>=1.18.0->google-api-core[grpc]<2.0.0dev,>=1.14.0->cirq-google==0.11.0->cirq) (4.7.2)\n",
            "Requirement already satisfied: pyparsing!=2.0.4,!=2.1.2,!=2.1.6,>=2.0.1 in /usr/local/lib/python3.7/dist-packages (from matplotlib~=3.0->cirq-core==0.11.0->cirq) (2.4.7)\n",
            "Requirement already satisfied: kiwisolver>=1.0.1 in /usr/local/lib/python3.7/dist-packages (from matplotlib~=3.0->cirq-core==0.11.0->cirq) (1.3.1)\n",
            "Requirement already satisfied: python-dateutil>=2.1 in /usr/local/lib/python3.7/dist-packages (from matplotlib~=3.0->cirq-core==0.11.0->cirq) (2.8.1)\n",
            "Requirement already satisfied: cycler>=0.10 in /usr/local/lib/python3.7/dist-packages (from matplotlib~=3.0->cirq-core==0.11.0->cirq) (0.10.0)\n",
            "Requirement already satisfied: decorator<5,>=4.3 in /usr/local/lib/python3.7/dist-packages (from networkx~=2.4->cirq-core==0.11.0->cirq) (4.4.2)\n",
            "Requirement already satisfied: pyasn1<0.5.0,>=0.4.6 in /usr/local/lib/python3.7/dist-packages (from pyasn1-modules>=0.2.1->google-auth<2.0dev,>=1.18.0->google-api-core[grpc]<2.0.0dev,>=1.14.0->cirq-google==0.11.0->cirq) (0.4.8)\n",
            "Requirement already satisfied: chardet<4,>=3.0.2 in /usr/local/lib/python3.7/dist-packages (from requests~=2.18->cirq-core==0.11.0->cirq) (3.0.4)\n",
            "Requirement already satisfied: certifi>=2017.4.17 in /usr/local/lib/python3.7/dist-packages (from requests~=2.18->cirq-core==0.11.0->cirq) (2021.5.30)\n",
            "Requirement already satisfied: idna<3,>=2.5 in /usr/local/lib/python3.7/dist-packages (from requests~=2.18->cirq-core==0.11.0->cirq) (2.10)\n",
            "Requirement already satisfied: urllib3!=1.25.0,!=1.25.1,<1.26,>=1.21.1 in /usr/local/lib/python3.7/dist-packages (from requests~=2.18->cirq-core==0.11.0->cirq) (1.24.3)\n",
            "Requirement already satisfied: mpmath>=0.19 in /usr/local/lib/python3.7/dist-packages (from sympy) (1.2.1)\n",
            "Collecting semantic-version==2.6\n",
            "  Downloading semantic_version-2.6.0-py3-none-any.whl (14 kB)\n",
            "Collecting autoray\n",
            "  Downloading autoray-0.2.5-py3-none-any.whl (16 kB)\n",
            "Requirement already satisfied: appdirs in /usr/local/lib/python3.7/dist-packages (from pennylane) (1.4.4)\n",
            "Requirement already satisfied: toml in /usr/local/lib/python3.7/dist-packages (from pennylane) (0.10.2)\n",
            "Requirement already satisfied: autograd in /usr/local/lib/python3.7/dist-packages (from pennylane) (1.3)\n",
            "Requirement already satisfied: future>=0.15.2 in /usr/local/lib/python3.7/dist-packages (from autograd->pennylane) (0.16.0)\n",
            "Installing collected packages: semantic-version, autoray, pennylane\n",
            "Successfully installed autoray-0.2.5 pennylane-0.16.0 semantic-version-2.6.0\n"
          ],
          "name": "stdout"
        }
      ]
    },
    {
      "cell_type": "markdown",
      "metadata": {
        "id": "6MWcZInurnNa"
      },
      "source": [
        "**Importing Modules**\n",
        "\n",
        "\n",
        "1.   Matplotlib.pyplot as plt\n",
        "2.   SVGCircuit from Cirq.contrib.svg\n",
        "3.   Tensorflow as tf and Tensorflow_Quantum as tfq\n",
        "4.   Google Cirq for writing the circuit\n",
        "5.   Sympy as sp\n",
        "6.   Numpy as np from Pennylane\n",
        "7.   Pennylane as qml\n",
        "8.   Itertools for efficient iteration\n",
        "9.   Math for doing math\n",
        "10.  TFDS for loading MNIST\n",
        "11.  Random for testing Abhik's Function\n",
        "\n"
      ]
    },
    {
      "cell_type": "code",
      "metadata": {
        "id": "aAILVscIjXMI"
      },
      "source": [
        "#%tb #full traceback for errors\n",
        "%matplotlib inline\n",
        "import tensorflow as tf\n",
        "import tensorflow_quantum as tfq\n",
        "import matplotlib.pyplot as plt\n",
        "import cirq\n",
        "from cirq.contrib.svg import SVGCircuit\n",
        "import sympy as sp\n",
        "import pennylane\n",
        "from pennylane import numpy as np\n",
        "from math import *\n",
        "from itertools import *\n",
        "import tensorflow_datasets as tfds #used for loading the MNIST dataset\n",
        "import numpy #used for convertion of list to Image\n",
        "import random #used for testing "
      ],
      "execution_count": 2,
      "outputs": []
    },
    {
      "cell_type": "markdown",
      "metadata": {
        "id": "YfmSZgyxeKA1"
      },
      "source": [
        "**Abhik's Section**"
      ]
    },
    {
      "cell_type": "markdown",
      "metadata": {
        "id": "hinMv9dxS4JT"
      },
      "source": [
        "Split the MNIST dataset into the training and testing sets for use."
      ]
    },
    {
      "cell_type": "code",
      "metadata": {
        "id": "l7QRfkTjSrRg",
        "colab": {
          "base_uri": "https://localhost:8080/",
          "height": 201,
          "referenced_widgets": [
            "5052e7adca654bd7b0d7551b033f132b",
            "daa82c3c6c244084a64e2ad909a9bbca",
            "d1253110d4a74dc39837a295105e6e28",
            "299f135a59054903932cf2845115592f",
            "dc5383bd2e434c0186d0e53b4bf0734b",
            "588fc045f6464804ab1f49af5fcda13b",
            "0361ddb83ea84536af3c4187af5e757c",
            "98470ebdd2614fd2a04a0f75213f8184"
          ]
        },
        "outputId": "c2debe7d-9e55-481a-962b-0de78fdb130f"
      },
      "source": [
        "mnistTrain = list( tfds.load( 'mnist' , split = 'train' , shuffle_files = True ) ) #loads the training subset from the\n",
        "                                                                    #MNIST dataset from tensorflow datasets as a list\n",
        "mnistTest = list( tfds.load( 'mnist' , split = 'test' , shuffle_files = True ) ) #loads the testing subset from the \n",
        "                                                                    #MNIST dataset from tensorflow datasets as a list"
      ],
      "execution_count": 3,
      "outputs": [
        {
          "output_type": "stream",
          "text": [
            "\u001b[1mDownloading and preparing dataset mnist/3.0.1 (download: 11.06 MiB, generated: 21.00 MiB, total: 32.06 MiB) to /root/tensorflow_datasets/mnist/3.0.1...\u001b[0m\n"
          ],
          "name": "stdout"
        },
        {
          "output_type": "stream",
          "text": [
            "WARNING:absl:Dataset mnist is hosted on GCS. It will automatically be downloaded to your\n",
            "local data directory. If you'd instead prefer to read directly from our public\n",
            "GCS bucket (recommended if you're running on GCP), you can instead pass\n",
            "`try_gcs=True` to `tfds.load` or set `data_dir=gs://tfds-data/datasets`.\n",
            "\n"
          ],
          "name": "stderr"
        },
        {
          "output_type": "display_data",
          "data": {
            "application/vnd.jupyter.widget-view+json": {
              "model_id": "5052e7adca654bd7b0d7551b033f132b",
              "version_minor": 0,
              "version_major": 2
            },
            "text/plain": [
              "HBox(children=(FloatProgress(value=0.0, description='Dl Completed...', max=4.0, style=ProgressStyle(descriptio…"
            ]
          },
          "metadata": {
            "tags": []
          }
        },
        {
          "output_type": "stream",
          "text": [
            "\n",
            "\n",
            "\u001b[1mDataset mnist downloaded and prepared to /root/tensorflow_datasets/mnist/3.0.1. Subsequent calls will reuse this data.\u001b[0m\n"
          ],
          "name": "stdout"
        }
      ]
    },
    {
      "cell_type": "markdown",
      "metadata": {
        "id": "7Of6n0oXSxdx"
      },
      "source": [
        "**encodeToQuantum() Function**\n",
        "\n",
        "\n",
        "---\n",
        "Takes in a list of pixel values of an image and creates a new list of 0's and 1's based on how the pixel compares to the threshold defined (190), thus encoding the pixels into quantum data.  \n",
        "Arguments: oldPixVals a list of pixel values that comes from a GRAYSCALE (1 byte per pixel) image   \n",
        "Returns:    newVals                a encoded list of 0s and 1s that represent each pixel from the grayscale image"
      ]
    },
    {
      "cell_type": "code",
      "metadata": {
        "id": "dqcY46C0St3H"
      },
      "source": [
        "def encodeImageToQuantum( oldPixVals ) : \n",
        "    newVals = []\n",
        "\n",
        "    #sets the newVals lis to the same size and length of the oldPixVals list, which contains the array of pixel values\n",
        "    for row in range( len( oldPixVals ) ) :\n",
        "        newVals.append( [] )\n",
        "        for col in range( len( oldPixVals[ row ] ) ) :\n",
        "            newVals[ -1 ].append( -1 )\n",
        "    \n",
        "    threshold = 190\n",
        "    \n",
        "    #runs through each element of the list, accessing the grayscale value, and assign it a value in the new 1-bit list\n",
        "    # of pixels based on the threshold\n",
        "    for row in range( len( oldPixVals ) ) :\n",
        "        for col in range( len( oldPixVals[ row ] ) ) :\n",
        "            currPixVal = oldPixVals[ row ][ col ]\n",
        "            if int(currPixVal[ 0 ]) >= threshold :\n",
        "                newVals[ row ][ col ] = 1\n",
        "            else :\n",
        "                newVals[ row ][ col ] = 0\n",
        "    \n",
        "    return newVals #returns new list of values"
      ],
      "execution_count": 4,
      "outputs": []
    },
    {
      "cell_type": "markdown",
      "metadata": {
        "id": "FCme4mUIS26E"
      },
      "source": [
        "Each image is converted into a 2d array of pixels, and then the encodeImageToQuantum() method is called for each of the images in both the training and testing subsets."
      ]
    },
    {
      "cell_type": "code",
      "metadata": {
        "id": "UJetAtz5S7Yr"
      },
      "source": [
        "encodedMnistTrain = []\n",
        "\n",
        "\n",
        "for currImage in range( len( mnistTrain ) ) : #runs through the mnistTrain list to access the index of each image\n",
        "    oldImage = mnistTrain[ currImage ][ 'image' ] #accesses the image from the mnistTrain list\n",
        "    oldImage = numpy.array( oldImage , dtype = numpy.uint8 ) #converts image into usable numpy array object\n",
        "    encodedMnistTrain.append( encodeImageToQuantum( oldImage ) ) #encodes image into 0s and 1s and appends result\n",
        "                                                                    #to the end of the 'encodedMnistTrain' list\n",
        "\n",
        "encodedMnistTest = []\n",
        "\n",
        "#runs through the mnistTest list and converts each image to an encoded version\n",
        "for currImage in range( len( mnistTest ) ) : \n",
        "    oldImage = mnistTest[ currImage ][ 'image' ]\n",
        "    oldImage = numpy.array( oldImage , dtype = numpy.uint8 )\n",
        "    encodedMnistTest.append( encodeImageToQuantum( oldImage ) )"
      ],
      "execution_count": 5,
      "outputs": []
    },
    {
      "cell_type": "markdown",
      "metadata": {
        "id": "Y2SqPPHjTFRV"
      },
      "source": [
        "#Testing Code\n",
        "---\n",
        "Takes two random images from the training dataset and one from the testing dataset, and shows each image's original form and encoded form. The original form is converted from grayscale, or (x), to RGB values, or (x, x, x). The encoded form is changed into RGB values to be printed, but only two values show up: (255, 255, 255), which is white, or (0, 0, 0), which is black.\n",
        "\n",
        "###***Example of Output***:\n",
        "\n",
        "Index #3703 from Training\n",
        "\n",
        "**Original:**\n",
        "\n",
        "![Screen Shot 2021-08-02 at 12.13.11 PM.png](data:image/png;base64,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)\n",
        "\n",
        "**Encoded:**\n",
        "\n",
        "![Screen Shot 2021-08-02 at 12.12.58 PM.png](data:image/png;base64,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)"
      ]
    },
    {
      "cell_type": "code",
      "metadata": {
        "id": "x_1a2kiqTFfE"
      },
      "source": [
        "testIndexList = []\n",
        "testOrigList = []\n",
        "testEncodeList = []\n",
        "\n",
        "for i in range(3):\n",
        "    fromWhichSet = ''\n",
        "    if i < 2: #uses training set for first two images\n",
        "        randNum = random.randint( 0 , len( mnistTrain ) ) #generates a random integer from 0 to 60,000 (length of train \n",
        "                                                                  #subset)\n",
        "        randOldImage = mnistTrain[ randNum ][ 'image' ] #takes a random image from the train subset to use for testing\n",
        "        randNewImage = encodedMnistTrain[ randNum ] #takes the corresponding image from the encoded train subset to use \n",
        "                                                        #for testing\n",
        "        fromWhichSet = ' from Training'\n",
        "    else: #uses test set for last image\n",
        "        randNum = random.randint( 0 , len( mnistTest ) ) #generates a random integer from 0 to 60,000 (length of train \n",
        "                                                                  #subset)\n",
        "        randOldImage = mnistTest[ randNum ][ 'image' ] #takes a random image from the train subset to use for testing\n",
        "        randNewImage = encodedMnistTest[ randNum ] #takes the corresponding image from the encoded train subset to use \n",
        "                                                        #for testing\n",
        "        fromWhichSet = ' from Testing'\n",
        "\n",
        "    randOldImage = numpy.array( randOldImage , dtype = numpy.uint8 ) #converts image to usable numpy array object\n",
        "    randNewImage = numpy.array( randNewImage , dtype = numpy.uint8 ) #converts image to usable numpy array object\n",
        "\n",
        "    newValPixVal = []\n",
        "    pPixel = []\n",
        "\n",
        "    #generating original image to print by creating a new array of RGB values, by repeating each value three times \n",
        "    # ([value, value, value]) to create an RGB pixel of some shade of gray\n",
        "    for row in range( len( randOldImage ) ) : #runs through the rows of the image list\n",
        "        pPixel.append( [] ) #creates a new row when done with the previous row\n",
        "        for col in range( len( randOldImage[ row ] ) ) : #runs through the columns of the image list\n",
        "            pPixel[ -1 ].append( [ int( randOldImage[ row ][ col ] ) ,\n",
        "                                  int( randOldImage[ row ][ col ] ) , \n",
        "                                  int( randOldImage[ row ][ col ] ) ] )#appends the new RGB value to the end of newest \n",
        "                                                                          #row\n",
        "\n",
        "\n",
        "    #generating new image to print by multiplying each value by 255, to generate the RGB values of [255, 255, 255]\n",
        "    # or [0, 0, 0] from the values created by 'encodeImageToQuantum()'\n",
        "    for row in range( len( randNewImage ) ) :\n",
        "        newValPixVal.append( [] ) \n",
        "        for col in range( len( randNewImage[ row ] ) ) :\n",
        "            newValPixVal[ -1 ].append( [ randNewImage[ row ][ col ] * 255 , \n",
        "                                        randNewImage[ row ][ col ] * 255 , \n",
        "                                        randNewImage[ row ][ col ] * 255 ] )\n",
        "\n",
        "    testIndexList.append('Image #' + str(i+1) + ': ' + str(randNum) + fromWhichSet)\n",
        "\n",
        "    #converts the pPixel (old Image) array to an Image and displays it as output\n",
        "    pPixel = numpy.array( pPixel , dtype = numpy.uint8 ) #converts the list into a usable numpy array object\n",
        "    testOrigList.append(pPixel)\n",
        "    \n",
        "    #converts the newValPixVal (new Image) array to an Image and displays it as output\n",
        "    newValPixVal = numpy.array( newValPixVal , dtype = numpy.uint8 )\n",
        "    testEncodeList.append(newValPixVal)"
      ],
      "execution_count": 6,
      "outputs": []
    },
    {
      "cell_type": "markdown",
      "metadata": {
        "id": "GpKP20xelEeZ"
      },
      "source": [
        "###Print out each of the images from the test code."
      ]
    },
    {
      "cell_type": "code",
      "metadata": {
        "colab": {
          "base_uri": "https://localhost:8080/",
          "height": 316
        },
        "id": "75_uCp78kX9h",
        "outputId": "3d07b6ad-b476-489c-dbba-6d1400fcefc3"
      },
      "source": [
        "#Image 1\n",
        "print(testIndexList[0])\n",
        "print('Original: ')\n",
        "plt.imshow(testOrigList[0]) #uses the numpy array object print out "
      ],
      "execution_count": 7,
      "outputs": [
        {
          "output_type": "stream",
          "text": [
            "Image #1: 55066 from Training\n",
            "Original: \n"
          ],
          "name": "stdout"
        },
        {
          "output_type": "execute_result",
          "data": {
            "text/plain": [
              "<matplotlib.image.AxesImage at 0x7f398ea32210>"
            ]
          },
          "metadata": {
            "tags": []
          },
          "execution_count": 7
        },
        {
          "output_type": "display_data",
          "data": {
            "image/png": "[encoded data removed]",
            "text/plain": [
              "<Figure size 432x288 with 1 Axes>"
            ]
          },
          "metadata": {
            "tags": [],
            "needs_background": "light"
          }
        }
      ]
    },
    {
      "cell_type": "code",
      "metadata": {
        "colab": {
          "base_uri": "https://localhost:8080/",
          "height": 299
        },
        "id": "ygaeExkzk1Bu",
        "outputId": "4bb5a589-f939-4cee-971e-016c75badbc5"
      },
      "source": [
        "print('Encoded: ')\n",
        "plt.imshow(testEncodeList[0])"
      ],
      "execution_count": 8,
      "outputs": [
        {
          "output_type": "stream",
          "text": [
            "Encoded: \n"
          ],
          "name": "stdout"
        },
        {
          "output_type": "execute_result",
          "data": {
            "text/plain": [
              "<matplotlib.image.AxesImage at 0x7f3958f6e2d0>"
            ]
          },
          "metadata": {
            "tags": []
          },
          "execution_count": 8
        },
        {
          "output_type": "display_data",
          "data": {
            "image/png": "[encoded data removed]",
            "text/plain": [
              "<Figure size 432x288 with 1 Axes>"
            ]
          },
          "metadata": {
            "tags": [],
            "needs_background": "light"
          }
        }
      ]
    },
    {
      "cell_type": "code",
      "metadata": {
        "colab": {
          "base_uri": "https://localhost:8080/",
          "height": 316
        },
        "id": "1vY_ZLBpky-V",
        "outputId": "0d35ab78-3904-4ec8-bd57-2f7bb17cd5e2"
      },
      "source": [
        "#Image 2\n",
        "print(testIndexList[1])\n",
        "print('Original:')\n",
        "plt.imshow(testOrigList[1])"
      ],
      "execution_count": 9,
      "outputs": [
        {
          "output_type": "stream",
          "text": [
            "Image #2: 33279 from Training\n",
            "Original:\n"
          ],
          "name": "stdout"
        },
        {
          "output_type": "execute_result",
          "data": {
            "text/plain": [
              "<matplotlib.image.AxesImage at 0x7f3958ee7050>"
            ]
          },
          "metadata": {
            "tags": []
          },
          "execution_count": 9
        },
        {
          "output_type": "display_data",
          "data": {
            "image/png": "[encoded data removed]",
            "text/plain": [
              "<Figure size 432x288 with 1 Axes>"
            ]
          },
          "metadata": {
            "tags": [],
            "needs_background": "light"
          }
        }
      ]
    },
    {
      "cell_type": "code",
      "metadata": {
        "colab": {
          "base_uri": "https://localhost:8080/",
          "height": 299
        },
        "id": "VLAsn7AalOrU",
        "outputId": "b9f5851a-985a-46f3-923b-a59176266743"
      },
      "source": [
        "print('Encoded: ')\n",
        "plt.imshow(testEncodeList[1])"
      ],
      "execution_count": 10,
      "outputs": [
        {
          "output_type": "stream",
          "text": [
            "Encoded: \n"
          ],
          "name": "stdout"
        },
        {
          "output_type": "execute_result",
          "data": {
            "text/plain": [
              "<matplotlib.image.AxesImage at 0x7f3958e48510>"
            ]
          },
          "metadata": {
            "tags": []
          },
          "execution_count": 10
        },
        {
          "output_type": "display_data",
          "data": {
            "image/png": "[encoded data removed]",
            "text/plain": [
              "<Figure size 432x288 with 1 Axes>"
            ]
          },
          "metadata": {
            "tags": [],
            "needs_background": "light"
          }
        }
      ]
    },
    {
      "cell_type": "code",
      "metadata": {
        "colab": {
          "base_uri": "https://localhost:8080/",
          "height": 316
        },
        "id": "VRETC6dalSZq",
        "outputId": "0b1ccd17-8a65-4c29-84a4-e69048f53418"
      },
      "source": [
        "#Image 3\n",
        "print(testIndexList[2])\n",
        "print('Original:')\n",
        "plt.imshow(testOrigList[2])"
      ],
      "execution_count": 11,
      "outputs": [
        {
          "output_type": "stream",
          "text": [
            "Image #3: 7000 from Testing\n",
            "Original:\n"
          ],
          "name": "stdout"
        },
        {
          "output_type": "execute_result",
          "data": {
            "text/plain": [
              "<matplotlib.image.AxesImage at 0x7f3958e2ccd0>"
            ]
          },
          "metadata": {
            "tags": []
          },
          "execution_count": 11
        },
        {
          "output_type": "display_data",
          "data": {
            "image/png": "[encoded data removed]",
            "text/plain": [
              "<Figure size 432x288 with 1 Axes>"
            ]
          },
          "metadata": {
            "tags": [],
            "needs_background": "light"
          }
        }
      ]
    },
    {
      "cell_type": "code",
      "metadata": {
        "colab": {
          "base_uri": "https://localhost:8080/",
          "height": 299
        },
        "id": "akEz_aEvlT7Y",
        "outputId": "3e2fd26e-a6b8-4b62-947b-a34c1ba15b91"
      },
      "source": [
        "print('Encoded: ')\n",
        "plt.imshow(testEncodeList[2])"
      ],
      "execution_count": 12,
      "outputs": [
        {
          "output_type": "stream",
          "text": [
            "Encoded: \n"
          ],
          "name": "stdout"
        },
        {
          "output_type": "execute_result",
          "data": {
            "text/plain": [
              "<matplotlib.image.AxesImage at 0x7f3958da4410>"
            ]
          },
          "metadata": {
            "tags": []
          },
          "execution_count": 12
        },
        {
          "output_type": "display_data",
          "data": {
            "image/png": "[encoded data removed]",
            "text/plain": [
              "<Figure size 432x288 with 1 Axes>"
            ]
          },
          "metadata": {
            "tags": [],
            "needs_background": "light"
          }
        }
      ]
    },
    {
      "cell_type": "markdown",
      "metadata": {
        "id": "Jzoe9hnsOYnG"
      },
      "source": [
        "#Convolutional Layers and Pooling"
      ]
    },
    {
      "cell_type": "markdown",
      "metadata": {
        "id": "5_D2Pw0KrqSV"
      },
      "source": [
        "**Function which Creates the Circuit and Qubits**"
      ]
    },
    {
      "cell_type": "code",
      "metadata": {
        "id": "dP5jTCZMqyIe"
      },
      "source": [
        "numOfQubits = 4"
      ],
      "execution_count": 13,
      "outputs": []
    },
    {
      "cell_type": "code",
      "metadata": {
        "id": "_PAA7sWNlabQ"
      },
      "source": [
        "def createCircuit(num_qubits):\n",
        "    qubits = cirq.GridQubit.rect(1, num_qubits)\n",
        "    circuit = cirq.Circuit()\n",
        "    return qubits, circuit"
      ],
      "execution_count": 14,
      "outputs": []
    },
    {
      "cell_type": "code",
      "metadata": {
        "id": "VqWG240BjLT_"
      },
      "source": [
        "qubits, vqc = createCircuit(numOfQubits)"
      ],
      "execution_count": 15,
      "outputs": []
    },
    {
      "cell_type": "markdown",
      "metadata": {
        "id": "wDbmU_rU4gSr"
      },
      "source": [
        "*If you mess up run the \"I messed up function\"*\n"
      ]
    },
    {
      "cell_type": "markdown",
      "metadata": {
        "id": "zivQII-QruPW"
      },
      "source": [
        "**Cluster State PQC**\n",
        "1. Hadamard all Qubit\n",
        "2. CNOT each pair of qubits (0,1), (1,2) (2,3), (3,0)"
      ]
    },
    {
      "cell_type": "code",
      "metadata": {
        "id": "Rp23oskVJgBQ"
      },
      "source": [
        "def Cluster_State_PQC(bits):\n",
        "    circuit = cirq.Circuit()\n",
        "    circuit.append(cirq.H.on_each(bits))\n",
        "    for this_bit, next_bit in zip(bits, bits[1:] + [bits[0]]):\n",
        "        circuit.append(cirq.CZ(this_bit, next_bit))\n",
        "    return circuit"
      ],
      "execution_count": 16,
      "outputs": []
    },
    {
      "cell_type": "markdown",
      "metadata": {
        "id": "KiDcXLDJrytN"
      },
      "source": [
        "**Rotation Angle Initialization before perfoming Convolution and Pooling and Gate Functions**"
      ]
    },
    {
      "cell_type": "code",
      "metadata": {
        "id": "cGbWGxM4p82U"
      },
      "source": [
        "def InitRot(numOfAngles=74, angle = np.pi/2):\n",
        "    return np.array([angle for i in range(numOfAngles)])"
      ],
      "execution_count": 17,
      "outputs": []
    },
    {
      "cell_type": "code",
      "metadata": {
        "id": "Gxc9maWMMQZR",
        "colab": {
          "base_uri": "https://localhost:8080/"
        },
        "outputId": "1078ce75-3741-46f0-8ebb-b2f83f9d99a7"
      },
      "source": [
        "default = InitRot()\n",
        "print(default)"
      ],
      "execution_count": 18,
      "outputs": [
        {
          "output_type": "stream",
          "text": [
            "[1.57079633 1.57079633 1.57079633 1.57079633 1.57079633 1.57079633\n",
            " 1.57079633 1.57079633 1.57079633 1.57079633 1.57079633 1.57079633\n",
            " 1.57079633 1.57079633 1.57079633 1.57079633 1.57079633 1.57079633\n",
            " 1.57079633 1.57079633 1.57079633 1.57079633 1.57079633 1.57079633\n",
            " 1.57079633 1.57079633 1.57079633 1.57079633 1.57079633 1.57079633\n",
            " 1.57079633 1.57079633 1.57079633 1.57079633 1.57079633 1.57079633\n",
            " 1.57079633 1.57079633 1.57079633 1.57079633 1.57079633 1.57079633\n",
            " 1.57079633 1.57079633 1.57079633 1.57079633 1.57079633 1.57079633\n",
            " 1.57079633 1.57079633 1.57079633 1.57079633 1.57079633 1.57079633\n",
            " 1.57079633 1.57079633 1.57079633 1.57079633 1.57079633 1.57079633\n",
            " 1.57079633 1.57079633 1.57079633 1.57079633 1.57079633 1.57079633\n",
            " 1.57079633 1.57079633 1.57079633 1.57079633 1.57079633 1.57079633\n",
            " 1.57079633 1.57079633]\n"
          ],
          "name": "stdout"
        }
      ]
    },
    {
      "cell_type": "markdown",
      "metadata": {
        "id": "lgbVIvgP5dsG"
      },
      "source": [
        "*Rotation angles subject to changes at any time*"
      ]
    },
    {
      "cell_type": "code",
      "metadata": {
        "id": "SIPC8qkBv8Gy"
      },
      "source": [
        "def U3_Gate(bit, params):\n",
        "    return cirq.Circuit(\n",
        "        cirq.X(bit)**params[0],\n",
        "        cirq.Y(bit)**params[1],\n",
        "        cirq.Z(bit)**params[2])"
      ],
      "execution_count": 19,
      "outputs": []
    },
    {
      "cell_type": "code",
      "metadata": {
        "id": "65UR9Y__zQEY"
      },
      "source": [
        "def CU_Gate(other_bit, bit, params):\n",
        "    return cirq.Circuit(\n",
        "        cirq.X(bit).controlled_by(other_bit)**params[0],\n",
        "        cirq.Y(bit).controlled_by(other_bit)**params[1],\n",
        "        cirq.Z(bit).controlled_by(other_bit)**params[2])"
      ],
      "execution_count": 20,
      "outputs": []
    },
    {
      "cell_type": "markdown",
      "metadata": {
        "id": "RXVa-7y6rNk1"
      },
      "source": [
        "**Quantum Convolution Layer 1**.  \n",
        "*Consists of RY gates with fixed angle of rotation (non-trainable) and CNOT pattern as in the PQC* "
      ]
    },
    {
      "cell_type": "code",
      "metadata": {
        "id": "tIsMtJO3iEjY"
      },
      "source": [
        "def QConvLayer1(qubits): \n",
        "    circuit = cirq.Circuit()\n",
        "    for first in qubits:\n",
        "        circuit.append(cirq.Ry(rads=np.pi)(first))\n",
        "    for first, second in zip(qubits[0::1], qubits[1::1] + [qubits[0]]):\n",
        "        circuit.append(cirq.CNOT(first, second))\n",
        "    return circuit"
      ],
      "execution_count": 21,
      "outputs": []
    },
    {
      "cell_type": "markdown",
      "metadata": {
        "id": "kjnFi23iv4sr"
      },
      "source": [
        "**Quantum Convolution Layer 2**  \n",
        "*Consists of U3 gates applied to each qubit and CU gates applied in the CNOT pattern*"
      ]
    },
    {
      "cell_type": "code",
      "metadata": {
        "id": "w7FUvK2ONa7I"
      },
      "source": [
        "def QConvLayer2(qubits, params):\n",
        "    circuit = cirq.Circuit()\n",
        "    index = 0\n",
        "    for qubit in qubits:\n",
        "        circuit += U3_Gate(qubit, params[index : index+3])\n",
        "        index += 3\n",
        "    for first, second in zip(qubits[0::1], qubits[1::1] + [qubits[0]]):\n",
        "        circuit += CU_Gate(first, second, params[index : index+3])\n",
        "        index += 3\n",
        "    return circuit"
      ],
      "execution_count": 22,
      "outputs": []
    },
    {
      "cell_type": "markdown",
      "metadata": {
        "id": "z0CWJt7gAlNC"
      },
      "source": [
        "**Quantum Convolution Layer 3**"
      ]
    },
    {
      "cell_type": "code",
      "metadata": {
        "id": "qij5QbJqSNGu"
      },
      "source": [
        "def QConvLayer3(qubits, params):\n",
        "    circuit = cirq.Circuit()\n",
        "    index=0\n",
        "    for qubit in qubits:\n",
        "        circuit += U3_Gate(qubit, params[index : index+3])\n",
        "        index += 3\n",
        "    circuit += cirq.CNOT(control=qubits[0], target=qubits[1])\n",
        "    circuit += (cirq.CNOT(control=qubits[3], target=qubits[2]))\n",
        "    circuit += U3_Gate(qubits[0], [np.pi, np.pi, np.pi])\n",
        "    circuit += U3_Gate(qubits[3], [np.pi/2, np.pi/2, np.pi/2])\n",
        "    circuit += cirq.CNOT(control=qubits[0], target=qubits[1])\n",
        "    circuit += cirq.CNOT(control=qubits[3], target=qubits[2])\n",
        "    return circuit"
      ],
      "execution_count": 23,
      "outputs": []
    },
    {
      "cell_type": "markdown",
      "metadata": {
        "id": "HohdsIVyBeRj"
      },
      "source": [
        "**Quantum Convolution Layer 4**"
      ]
    },
    {
      "cell_type": "code",
      "metadata": {
        "id": "FL5qQlbQTl_X"
      },
      "source": [
        "def QConvLayer4(qubits, params):\n",
        "    circuit = cirq.Circuit()\n",
        "    index = 0\n",
        "    circuit += U3_Gate(qubits[0], params[0:3])\n",
        "    for first, second in zip(qubits[0::1], qubits[1::1] + [qubits[0]]):\n",
        "        circuit += cirq.CNOT(control=first, target=second)\n",
        "        circuit += CU_Gate(first, second, params[index:index+3])\n",
        "        index += 3\n",
        "    return circuit"
      ],
      "execution_count": 24,
      "outputs": []
    },
    {
      "cell_type": "markdown",
      "metadata": {
        "id": "zegH5nDnCre3"
      },
      "source": [
        "**Quantum Convolution Layer 5**"
      ]
    },
    {
      "cell_type": "code",
      "metadata": {
        "id": "dwJ1JAhsYSMc"
      },
      "source": [
        "def QConvLayer5(qubits, params):\n",
        "    circuit = cirq.Circuit()\n",
        "    circuit += U3_Gate(qubits[0], params[0:3])\n",
        "    circuit += cirq.CNOT(control=qubits[0], target=qubits[1])\n",
        "    circuit += cirq.CNOT(control=qubits[2], target=qubits[3])\n",
        "    circuit += U3_Gate(qubits[2], params[3:6])\n",
        "    circuit += cirq.CNOT(control = qubits[2], target=qubits[1])\n",
        "    circuit += U3_Gate(qubits[1], params[6:9])\n",
        "    return circuit"
      ],
      "execution_count": 25,
      "outputs": []
    },
    {
      "cell_type": "markdown",
      "metadata": {
        "id": "zhBxQCzxBV_Y"
      },
      "source": [
        "**Quantum Convolution Layer 6**  \n",
        "*Same as Layer 4 but CU is CNOT*"
      ]
    },
    {
      "cell_type": "code",
      "metadata": {
        "id": "rvRfsdB8ZPeJ"
      },
      "source": [
        "def QConvLayer6(qubits):\n",
        "    circuit = cirq.Circuit()\n",
        "    for i in range(1, len(qubits)):\n",
        "        circuit += cirq.CNOT(qubits[0], qubits[i])\n",
        "    circuit += U3_Gate(qubits[3], [np.pi, np.pi/2, np.pi/4])\n",
        "    return circuit"
      ],
      "execution_count": 26,
      "outputs": []
    },
    {
      "cell_type": "markdown",
      "metadata": {
        "id": "QIULoikICw_W"
      },
      "source": [
        "**Quantum Pooling Layer**  "
      ]
    },
    {
      "cell_type": "code",
      "metadata": {
        "id": "1mXME10zE79h"
      },
      "source": [
        "def QPoolLayer(source, sink, params):\n",
        "    poolCircuit = cirq.Circuit()\n",
        "    sinkBasisSelector = U3_Gate(sink, params[0:3])\n",
        "    sourceBasisSelector = U3_Gate(source, params[3:6])\n",
        "    poolCircuit.append(sinkBasisSelector)\n",
        "    poolCircuit.append(sourceBasisSelector)\n",
        "    poolCircuit.append(cirq.CNOT(control=source, target=sink))\n",
        "    poolCircuit.append(sinkBasisSelector**-1)\n",
        "    return poolCircuit"
      ],
      "execution_count": 27,
      "outputs": []
    },
    {
      "cell_type": "markdown",
      "metadata": {
        "id": "q8ESjG5uZGrl"
      },
      "source": [
        "**1.6 Create Model**"
      ]
    },
    {
      "cell_type": "code",
      "metadata": {
        "id": "P-_u_k37u35y"
      },
      "source": [
        "def createModelCircuit(qubits, symbols=sp.symbols('param0:74')):\n",
        "    modelCircuit = cirq.Circuit()\n",
        "    modelCircuit += QConvLayer1(qubits)\n",
        "    modelCircuit += QConvLayer2(qubits, symbols[0:24])\n",
        "    modelCircuit += QConvLayer3(qubits, symbols[24:36])\n",
        "    modelCircuit += QPoolLayer(qubits[0], qubits[2], symbols[36:42])\n",
        "    modelCircuit += QConvLayer4(qubits, symbols[42:57])\n",
        "    modelCircuit += QConvLayer5(qubits, symbols[57:67])\n",
        "    modelCircuit += QPoolLayer(qubits[1], qubits[3], symbols[67:74])\n",
        "    modelCircuit += QConvLayer6(qubits)\n",
        "    return modelCircuit"
      ],
      "execution_count": 28,
      "outputs": []
    },
    {
      "cell_type": "code",
      "metadata": {
        "colab": {
          "base_uri": "https://localhost:8080/",
          "height": 232
        },
        "id": "Qrocm_KXhGqJ",
        "outputId": "e4a774e6-5b8c-4942-fce1-6bf9006b73bd"
      },
      "source": [
        "clusterStateBits = cirq.GridQubit.rect(1, 4)\n",
        "readoutOps = cirq.Z(clusterStateBits[-1])\n",
        "excitationInput = tf.keras.Input(shape=(), dtype=tf.dtypes.string)\n",
        "clusterState = tfq.layers.AddCircuit()(excitationInput, prepend=Cluster_State_PQC(clusterStateBits))\n",
        "QModel = tfq.layers.PQC(createModelCircuit(clusterStateBits), readoutOps)(clusterState)\n",
        "QCNNModel = tf.keras.Model(inputs=[excitationInput], outputs=[QModel])\n",
        "tf.keras.utils.plot_model(QCNNModel, show_shapes=True, show_layer_names=True, dpi=70)"
      ],
      "execution_count": 29,
      "outputs": [
        {
          "output_type": "execute_result",
          "data": {
            "image/png": "[encoded data removed]",
            "text/plain": [
              "<IPython.core.display.Image object>"
            ]
          },
          "metadata": {
            "tags": []
          },
          "execution_count": 29
        }
      ]
    },
    {
      "cell_type": "markdown",
      "metadata": {
        "id": "KGs4nE1VMb97"
      },
      "source": [
        "**1.7 Training Model**.  \n",
        "This stuff needs work"
      ]
    },
    {
      "cell_type": "code",
      "metadata": {
        "id": "OQDdjIjlMbi6"
      },
      "source": [
        "@tf.function\n",
        "#Cusom Accuracy Metric\n",
        "def customAccuracyMetric(yTrue, yPredicted):\n",
        "    yTrue = tf.squeeze(yTrue)\n",
        "    yPredicted = tf.map_fn(lambda x: 1.0 if x >= 0 else -1.0, yPredicted)\n",
        "    return tf.keras.backend.mean(tf.keras.backend.equal(yTrue, yPredicted))\n",
        "#Needs Work"
      ],
      "execution_count": 30,
      "outputs": []
    },
    {
      "cell_type": "code",
      "metadata": {
        "id": "Eer1NaAkNzYd"
      },
      "source": [
        "QCNNModel.compile(optimizer=tf.keras.optimizers.Adam(learning_rate=0.01), loss=tf.losses.mse, metrics=[customAccuracyMetric])"
      ],
      "execution_count": 31,
      "outputs": []
    },
    {
      "cell_type": "code",
      "metadata": {
        "id": "wrxEY0PhWsOz"
      },
      "source": [
        ""
      ],
      "execution_count": 31,
      "outputs": []
    },
    {
      "cell_type": "code",
      "metadata": {
        "id": "EwryZ-XGWmX8"
      },
      "source": [
        ""
      ],
      "execution_count": 31,
      "outputs": []
    },
    {
      "cell_type": "markdown",
      "metadata": {
        "id": "1eYEPLQMNUgq"
      },
      "source": [
        "**Testing Stuff**"
      ]
    },
    {
      "cell_type": "markdown",
      "metadata": {
        "id": "39T_E1xxdCCz"
      },
      "source": [
        "**Generate_Data**.  \n",
        "Input: A 2D arrays of ones and zeros.  \n",
        "Does: 2x2 Sliding window for 4 qubits to input.  \n",
        "Output: Array of all non-overlapping 2x2 windows\n",
        "   \n",
        "**Get Training**   \n",
        "Input: an integer, the number of training examples to extract.  \n",
        "Does: applies sliding window method to extract 4 qubits worth of information for each example from 0 to how_many\n",
        "Output: The array of all windows of each training example\n",
        "\n",
        "   \n",
        "      \n",
        "**Get Test**    \n",
        "same as Get training but the test dataset"
      ]
    },
    {
      "cell_type": "code",
      "metadata": {
        "id": "c7RtQ46ANT1M"
      },
      "source": [
        "#Sliding Window, 2x2 sliding window\n",
        "def generate_data(arr2d):\n",
        "    windows = []\n",
        "    for row in range(0,len(arr2d),2):\n",
        "        for col in range(0,len(arr2d[row]), 2):\n",
        "            q0 = arr2d[row][col]\n",
        "            q1 = arr2d[row][col+1]\n",
        "            q2 = arr2d[row+1][col]\n",
        "            q3 = arr2d[row+1][col+1]\n",
        "            windows.append([[q0,q1],[q2,q3]])\n",
        "    return windows\n",
        "    \n",
        "def get_training(how_many, arr=encodedMnistTrain):\n",
        "    you_wanted = []\n",
        "    for i in range(how_many):\n",
        "        you_wanted.append(generate_data(arr[i]))\n",
        "    return you_wanted\n",
        "\n",
        "def get_test(how_many, arr=encodedMnistTrain):\n",
        "    you_wanted = []\n",
        "    for i in range(how_many):\n",
        "        you_wanted.append(generate_data(arr[i]))\n",
        "    return you_wanted"
      ],
      "execution_count": 32,
      "outputs": []
    },
    {
      "cell_type": "code",
      "metadata": {
        "id": "7pMGkQ4phiMw"
      },
      "source": [
        "tr = [encodedMnistTrain[30728], encodedMnistTrain[54477], encodedMnistTrain[3703]]\n",
        "SL_windows_Tr = []\n",
        "for sample in tr:\n",
        "    SL_windows_Tr.append(generate_data(sample))"
      ],
      "execution_count": 33,
      "outputs": []
    },
    {
      "cell_type": "code",
      "metadata": {
        "id": "aTHn88WeiiVx"
      },
      "source": [
        "te = [encodedMnistTest[1717], encodedMnistTest[5231], encodedMnistTest[3828]]\n",
        "SL_windows_Te = []\n",
        "for sample in te:\n",
        "    SL_windows_Te.append(generate_data(sample))"
      ],
      "execution_count": 34,
      "outputs": []
    },
    {
      "cell_type": "code",
      "metadata": {
        "id": "xk_hQ_qYNkHi"
      },
      "source": [
        "train_data = tf.convert_to_tensor(SL_windows_Tr)\n",
        "train_labels = np.array([2,0,9])\n",
        "test_data = tf.convert_to_tensor(SL_windows_Te)\n",
        "test_labels = np.array([8, 7, 8])"
      ],
      "execution_count": 35,
      "outputs": []
    },
    {
      "cell_type": "code",
      "metadata": {
        "id": "jg0C-KYWXkGH"
      },
      "source": [
        ""
      ],
      "execution_count": null,
      "outputs": []
    }
  ]
}