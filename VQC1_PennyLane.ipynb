{
 "cells": [
  {
   "cell_type": "code",
   "execution_count": 20,
   "metadata": {
    "scrolled": true
   },
   "outputs": [
    {
     "name": "stderr",
     "output_type": "stream",
     "text": [
      "ibmqfactory.load_account:WARNING:2021-07-16 02:03:11,398: Credentials are already in use. The existing account in the session will be replaced.\n"
     ]
    }
   ],
   "source": [
    "#!pip install pennylane #first time only\n",
    "%matplotlib inline\n",
    "#importing pennylane stuff\n",
    "import pennylane as qml\n",
    "from pennylane import numpy as np\n",
    "from pennylane.optimize import * #do we need this?\n",
    "#!pip install pennylane-qiskit #first time only\n",
    "\n",
    "\n",
    "#import qiskit stuff\n",
    "from qiskit import *\n",
    "from qiskit.tools.jupyter import *\n",
    "from qiskit.visualization import *\n",
    "from ibm_quantum_widgets import *\n",
    "from qiskit.providers.aer import *\n",
    "\n",
    "# Loading your IBM Quantum account(s)\n",
    "provider = IBMQ.load_account()"
   ]
  },
  {
   "cell_type": "code",
   "execution_count": 55,
   "metadata": {},
   "outputs": [],
   "source": [
    "global outputs\n",
    "outputs = list() #for storing results\n",
    "num_qubits = 4 #4 qubits\n",
    "# device\n",
    "dev = qml.device('qiskit.ibmq', wires=num_qubits, backend='ibmq_qasm_simulator', provider=provider)\n",
    "default_params = [np.pi/2, np.pi/2, np.pi/2]"
   ]
  },
  {
   "cell_type": "code",
   "execution_count": 36,
   "metadata": {},
   "outputs": [],
   "source": [
    "def cluster_state_qc():\n",
    "    qml.Hadamard(wires=0)\n",
    "    qml.Hadamard(wires=1)\n",
    "    qml.Hadamard(wires=2)\n",
    "    qml.Hadamard(wires=3)\n",
    "    qml.CNOT(wires=[0,1])\n",
    "    qml.CNOT(wires=[1,2])\n",
    "    qml.CNOT(wires=[2,3])\n",
    "    qml.RY(np.pi, wires=0)\n",
    "    qml.RY(np.pi, wires=1)\n",
    "    qml.RY(np.pi, wires=2)\n",
    "    qml.RY(np.pi, wires=3)\n",
    "    qml.CNOT(wires=[0,1])\n",
    "    qml.CNOT(wires=[1,2])\n",
    "    qml.CNOT(wires=[2,3])"
   ]
  },
  {
   "cell_type": "code",
   "execution_count": 48,
   "metadata": {},
   "outputs": [],
   "source": [
    "params_1 = default_params #[phi, theta, omega]\n",
    "params_2 = default_params #[phi, theta, omega]\n",
    "params_3 = default_params #[phi, theta, omega]\n",
    "params_4 = default_params #[phi, theta, omega]\n",
    "params_5 = default_params #[phi, theta, omega]\n",
    "params_6 = default_params #[phi, theta, omega]\n",
    "params_list = default_params #[phi, theta, omega]"
   ]
  },
  {
   "cell_type": "code",
   "execution_count": 49,
   "metadata": {},
   "outputs": [],
   "source": [
    "def qconv_1(params_1, params_2, params_3, params_4, params_5, params_6):\n",
    "    qml.U3(params_1[0], params_1[1], params_1[2], wires=0)\n",
    "    qml.U3(params_2[0], params_2[1], params_2[2], wires=1)\n",
    "    qml.U3(params_3[0], params_3[1], params_3[2], wires=2)\n",
    "    qml.U3(params_4[0], params_4[1], params_4[2], wires=3)\n",
    "    qml.CRot(params_5[0], params_5[1], params_5[2], wires=[0,1])\n",
    "    qml.CRot(params_6[0], params_6[1], params_6[2], wires=[2,3])"
   ]
  },
  {
   "cell_type": "code",
   "execution_count": 58,
   "metadata": {},
   "outputs": [],
   "source": [
    "def qpool_1():\n",
    "    return qml.expval(qml.PauliZ(1)), qml.expval(qml.PauliZ(3))"
   ]
  },
  {
   "cell_type": "code",
   "execution_count": 51,
   "metadata": {},
   "outputs": [],
   "source": [
    "def qconv_2(params_list):\n",
    "    qml.CRot(params_list[0], params_list[1], params_list[2], wires=[0,2])"
   ]
  },
  {
   "cell_type": "code",
   "execution_count": 57,
   "metadata": {},
   "outputs": [],
   "source": [
    "def qpool_2():\n",
    "    return qml.expval(qml.PauliZ(2))"
   ]
  },
  {
   "cell_type": "code",
   "execution_count": null,
   "metadata": {},
   "outputs": [],
   "source": [
    "@qml.qnode(dev)\n",
    "def my_circuit():\n",
    "    cluster_state_qc()\n",
    "    qconv_1(params_1, params_2, params_3, params_4, params_5, params_6)\n",
    "    outputs[0], outputs[1] = qpool_1()\n",
    "    qconv_2(params_list)\n",
    "    outputs[2] = qpool_2()",
    "    "
   ]
  }
 ],
 "metadata": {
  "kernelspec": {
   "display_name": "Python 3",
   "language": "python",
   "name": "python3"
  },
  "language_info": {
   "codemirror_mode": {
    "name": "ipython",
    "version": 3
   },
   "file_extension": ".py",
   "mimetype": "text/x-python",
   "name": "python",
   "nbconvert_exporter": "python",
   "pygments_lexer": "ipython3",
   "version": "3.8.10"
  }
 },
 "nbformat": 4,
 "nbformat_minor": 4
}
